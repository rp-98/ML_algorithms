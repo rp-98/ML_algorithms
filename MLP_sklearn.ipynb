{
 "cells": [
  {
   "cell_type": "code",
   "execution_count": 4,
   "metadata": {},
   "outputs": [],
   "source": [
    "import pandas as pd\n",
    "from warnings import filterwarnings\n",
    "data = pd.read_csv(\"Final_Train_Dataset.csv\")\n",
    "df= data[['company_name_encoded','experience', 'location', 'salary']]\n",
    "filterwarnings('ignore')"
   ]
  },
  {
   "cell_type": "code",
   "execution_count": 5,
   "metadata": {},
   "outputs": [
    {
     "data": {
      "text/plain": [
       "(19802, 4)"
      ]
     },
     "execution_count": 5,
     "metadata": {},
     "output_type": "execute_result"
    }
   ],
   "source": [
    "df.shape"
   ]
  },
  {
   "cell_type": "code",
   "execution_count": 6,
   "metadata": {},
   "outputs": [
    {
     "data": {
      "text/html": [
       "<div>\n",
       "<style scoped>\n",
       "    .dataframe tbody tr th:only-of-type {\n",
       "        vertical-align: middle;\n",
       "    }\n",
       "\n",
       "    .dataframe tbody tr th {\n",
       "        vertical-align: top;\n",
       "    }\n",
       "\n",
       "    .dataframe thead th {\n",
       "        text-align: right;\n",
       "    }\n",
       "</style>\n",
       "<table border=\"1\" class=\"dataframe\">\n",
       "  <thead>\n",
       "    <tr style=\"text-align: right;\">\n",
       "      <th></th>\n",
       "      <th>company_name_encoded</th>\n",
       "      <th>experience</th>\n",
       "      <th>location</th>\n",
       "      <th>salary</th>\n",
       "    </tr>\n",
       "  </thead>\n",
       "  <tbody>\n",
       "    <tr>\n",
       "      <td>0</td>\n",
       "      <td>3687</td>\n",
       "      <td>5-7 yrs</td>\n",
       "      <td>Delhi NCR(Vikas Puri)</td>\n",
       "      <td>6to10</td>\n",
       "    </tr>\n",
       "    <tr>\n",
       "      <td>1</td>\n",
       "      <td>458</td>\n",
       "      <td>10-17 yrs</td>\n",
       "      <td>Sonepat</td>\n",
       "      <td>10to15</td>\n",
       "    </tr>\n",
       "    <tr>\n",
       "      <td>2</td>\n",
       "      <td>4195</td>\n",
       "      <td>5-9 yrs</td>\n",
       "      <td>Delhi NCR</td>\n",
       "      <td>15to25</td>\n",
       "    </tr>\n",
       "    <tr>\n",
       "      <td>3</td>\n",
       "      <td>313</td>\n",
       "      <td>7-10 yrs</td>\n",
       "      <td>Bengaluru</td>\n",
       "      <td>10to15</td>\n",
       "    </tr>\n",
       "    <tr>\n",
       "      <td>4</td>\n",
       "      <td>1305</td>\n",
       "      <td>1-3 yrs</td>\n",
       "      <td>Gurgaon</td>\n",
       "      <td>3to6</td>\n",
       "    </tr>\n",
       "  </tbody>\n",
       "</table>\n",
       "</div>"
      ],
      "text/plain": [
       "   company_name_encoded experience               location  salary\n",
       "0                  3687    5-7 yrs  Delhi NCR(Vikas Puri)   6to10\n",
       "1                   458  10-17 yrs                Sonepat  10to15\n",
       "2                  4195    5-9 yrs              Delhi NCR  15to25\n",
       "3                   313   7-10 yrs              Bengaluru  10to15\n",
       "4                  1305    1-3 yrs                Gurgaon    3to6"
      ]
     },
     "execution_count": 6,
     "metadata": {},
     "output_type": "execute_result"
    }
   ],
   "source": [
    "df.head()"
   ]
  },
  {
   "cell_type": "code",
   "execution_count": 7,
   "metadata": {},
   "outputs": [
    {
     "data": {
      "text/plain": [
       "0"
      ]
     },
     "execution_count": 7,
     "metadata": {},
     "output_type": "execute_result"
    }
   ],
   "source": [
    "df.isna().sum().sum()"
   ]
  },
  {
   "cell_type": "code",
   "execution_count": 8,
   "metadata": {},
   "outputs": [],
   "source": [
    "#Cleaning the experience\n",
    "exp = list(data.experience)\n",
    "min_ex = []\n",
    "max_ex = []\n",
    "\n",
    "for i in range(len(exp)):\n",
    "   exp[i] = exp[i].replace(\"yrs\",\"\").strip()\n",
    "   min_ex.append(int(exp[i].split(\"-\")[0].strip()))\n",
    "   max_ex.append(int(exp[i].split(\"-\")[1].strip()))"
   ]
  },
  {
   "cell_type": "code",
   "execution_count": 9,
   "metadata": {},
   "outputs": [],
   "source": [
    "#Attaching the new experiences to the original dataset\n",
    "df[\"minimum_exp\"] = min_ex\n",
    "df[\"maximum_exp\"] = max_ex"
   ]
  },
  {
   "cell_type": "code",
   "execution_count": 14,
   "metadata": {},
   "outputs": [
    {
     "data": {
      "text/html": [
       "<div>\n",
       "<style scoped>\n",
       "    .dataframe tbody tr th:only-of-type {\n",
       "        vertical-align: middle;\n",
       "    }\n",
       "\n",
       "    .dataframe tbody tr th {\n",
       "        vertical-align: top;\n",
       "    }\n",
       "\n",
       "    .dataframe thead th {\n",
       "        text-align: right;\n",
       "    }\n",
       "</style>\n",
       "<table border=\"1\" class=\"dataframe\">\n",
       "  <thead>\n",
       "    <tr style=\"text-align: right;\">\n",
       "      <th></th>\n",
       "      <th>company_name_encoded</th>\n",
       "      <th>experience</th>\n",
       "      <th>location</th>\n",
       "      <th>salary</th>\n",
       "      <th>minimum_exp</th>\n",
       "      <th>maximum_exp</th>\n",
       "    </tr>\n",
       "  </thead>\n",
       "  <tbody>\n",
       "    <tr>\n",
       "      <td>0</td>\n",
       "      <td>3687</td>\n",
       "      <td>5-7 yrs</td>\n",
       "      <td>Delhi NCR(Vikas Puri)</td>\n",
       "      <td>6to10</td>\n",
       "      <td>5</td>\n",
       "      <td>7</td>\n",
       "    </tr>\n",
       "    <tr>\n",
       "      <td>1</td>\n",
       "      <td>458</td>\n",
       "      <td>10-17 yrs</td>\n",
       "      <td>Sonepat</td>\n",
       "      <td>10to15</td>\n",
       "      <td>10</td>\n",
       "      <td>17</td>\n",
       "    </tr>\n",
       "    <tr>\n",
       "      <td>2</td>\n",
       "      <td>4195</td>\n",
       "      <td>5-9 yrs</td>\n",
       "      <td>Delhi NCR</td>\n",
       "      <td>15to25</td>\n",
       "      <td>5</td>\n",
       "      <td>9</td>\n",
       "    </tr>\n",
       "    <tr>\n",
       "      <td>3</td>\n",
       "      <td>313</td>\n",
       "      <td>7-10 yrs</td>\n",
       "      <td>Bengaluru</td>\n",
       "      <td>10to15</td>\n",
       "      <td>7</td>\n",
       "      <td>10</td>\n",
       "    </tr>\n",
       "    <tr>\n",
       "      <td>4</td>\n",
       "      <td>1305</td>\n",
       "      <td>1-3 yrs</td>\n",
       "      <td>Gurgaon</td>\n",
       "      <td>3to6</td>\n",
       "      <td>1</td>\n",
       "      <td>3</td>\n",
       "    </tr>\n",
       "  </tbody>\n",
       "</table>\n",
       "</div>"
      ],
      "text/plain": [
       "   company_name_encoded experience               location  salary  \\\n",
       "0                  3687    5-7 yrs  Delhi NCR(Vikas Puri)   6to10   \n",
       "1                   458  10-17 yrs                Sonepat  10to15   \n",
       "2                  4195    5-9 yrs              Delhi NCR  15to25   \n",
       "3                   313   7-10 yrs              Bengaluru  10to15   \n",
       "4                  1305    1-3 yrs                Gurgaon    3to6   \n",
       "\n",
       "   minimum_exp  maximum_exp  \n",
       "0            5            7  \n",
       "1           10           17  \n",
       "2            5            9  \n",
       "3            7           10  \n",
       "4            1            3  "
      ]
     },
     "execution_count": 14,
     "metadata": {},
     "output_type": "execute_result"
    }
   ],
   "source": [
    "df.head()"
   ]
  },
  {
   "cell_type": "code",
   "execution_count": 10,
   "metadata": {},
   "outputs": [],
   "source": [
    "#Label encoding location and salary\n",
    "from sklearn.preprocessing import LabelEncoder\n",
    "le = LabelEncoder()\n",
    "df['location'] = le.fit_transform(df['location'])\n",
    "df['salary'] = le.fit_transform(df['salary'])"
   ]
  },
  {
   "cell_type": "code",
   "execution_count": 11,
   "metadata": {},
   "outputs": [
    {
     "data": {
      "text/plain": [
       "array([5, 1, 2, 4, 3, 0], dtype=int64)"
      ]
     },
     "execution_count": 11,
     "metadata": {},
     "output_type": "execute_result"
    }
   ],
   "source": [
    "df['salary'].unique()"
   ]
  },
  {
   "cell_type": "code",
   "execution_count": 12,
   "metadata": {},
   "outputs": [],
   "source": [
    "#Deleting the original experience column and reordering\n",
    "df.drop(['experience'], inplace = True, axis = 1)\n",
    "df = df[['company_name_encoded', 'location','minimum_exp', 'maximum_exp', 'salary']]"
   ]
  },
  {
   "cell_type": "code",
   "execution_count": 13,
   "metadata": {},
   "outputs": [
    {
     "data": {
      "text/html": [
       "<style  type=\"text/css\" >\n",
       "    #T_00a5f574_0b49_11ea_b511_e4f89c390f11row0_col4 {\n",
       "            background-color:  yellow;\n",
       "        }    #T_00a5f574_0b49_11ea_b511_e4f89c390f11row1_col1 {\n",
       "            background-color:  yellow;\n",
       "        }    #T_00a5f574_0b49_11ea_b511_e4f89c390f11row1_col2 {\n",
       "            background-color:  yellow;\n",
       "        }    #T_00a5f574_0b49_11ea_b511_e4f89c390f11row1_col3 {\n",
       "            background-color:  yellow;\n",
       "        }    #T_00a5f574_0b49_11ea_b511_e4f89c390f11row2_col0 {\n",
       "            background-color:  yellow;\n",
       "        }</style><table id=\"T_00a5f574_0b49_11ea_b511_e4f89c390f11\" ><thead>    <tr>        <th class=\"blank level0\" ></th>        <th class=\"col_heading level0 col0\" >company_name_encoded</th>        <th class=\"col_heading level0 col1\" >location</th>        <th class=\"col_heading level0 col2\" >minimum_exp</th>        <th class=\"col_heading level0 col3\" >maximum_exp</th>        <th class=\"col_heading level0 col4\" >salary</th>    </tr></thead><tbody>\n",
       "                <tr>\n",
       "                        <th id=\"T_00a5f574_0b49_11ea_b511_e4f89c390f11level0_row0\" class=\"row_heading level0 row0\" >0</th>\n",
       "                        <td id=\"T_00a5f574_0b49_11ea_b511_e4f89c390f11row0_col0\" class=\"data row0 col0\" >3687</td>\n",
       "                        <td id=\"T_00a5f574_0b49_11ea_b511_e4f89c390f11row0_col1\" class=\"data row0 col1\" >597</td>\n",
       "                        <td id=\"T_00a5f574_0b49_11ea_b511_e4f89c390f11row0_col2\" class=\"data row0 col2\" >5</td>\n",
       "                        <td id=\"T_00a5f574_0b49_11ea_b511_e4f89c390f11row0_col3\" class=\"data row0 col3\" >7</td>\n",
       "                        <td id=\"T_00a5f574_0b49_11ea_b511_e4f89c390f11row0_col4\" class=\"data row0 col4\" >5</td>\n",
       "            </tr>\n",
       "            <tr>\n",
       "                        <th id=\"T_00a5f574_0b49_11ea_b511_e4f89c390f11level0_row1\" class=\"row_heading level0 row1\" >1</th>\n",
       "                        <td id=\"T_00a5f574_0b49_11ea_b511_e4f89c390f11row1_col0\" class=\"data row1 col0\" >458</td>\n",
       "                        <td id=\"T_00a5f574_0b49_11ea_b511_e4f89c390f11row1_col1\" class=\"data row1 col1\" >1412</td>\n",
       "                        <td id=\"T_00a5f574_0b49_11ea_b511_e4f89c390f11row1_col2\" class=\"data row1 col2\" >10</td>\n",
       "                        <td id=\"T_00a5f574_0b49_11ea_b511_e4f89c390f11row1_col3\" class=\"data row1 col3\" >17</td>\n",
       "                        <td id=\"T_00a5f574_0b49_11ea_b511_e4f89c390f11row1_col4\" class=\"data row1 col4\" >1</td>\n",
       "            </tr>\n",
       "            <tr>\n",
       "                        <th id=\"T_00a5f574_0b49_11ea_b511_e4f89c390f11level0_row2\" class=\"row_heading level0 row2\" >2</th>\n",
       "                        <td id=\"T_00a5f574_0b49_11ea_b511_e4f89c390f11row2_col0\" class=\"data row2 col0\" >4195</td>\n",
       "                        <td id=\"T_00a5f574_0b49_11ea_b511_e4f89c390f11row2_col1\" class=\"data row2 col1\" >525</td>\n",
       "                        <td id=\"T_00a5f574_0b49_11ea_b511_e4f89c390f11row2_col2\" class=\"data row2 col2\" >5</td>\n",
       "                        <td id=\"T_00a5f574_0b49_11ea_b511_e4f89c390f11row2_col3\" class=\"data row2 col3\" >9</td>\n",
       "                        <td id=\"T_00a5f574_0b49_11ea_b511_e4f89c390f11row2_col4\" class=\"data row2 col4\" >2</td>\n",
       "            </tr>\n",
       "            <tr>\n",
       "                        <th id=\"T_00a5f574_0b49_11ea_b511_e4f89c390f11level0_row3\" class=\"row_heading level0 row3\" >3</th>\n",
       "                        <td id=\"T_00a5f574_0b49_11ea_b511_e4f89c390f11row3_col0\" class=\"data row3 col0\" >313</td>\n",
       "                        <td id=\"T_00a5f574_0b49_11ea_b511_e4f89c390f11row3_col1\" class=\"data row3 col1\" >114</td>\n",
       "                        <td id=\"T_00a5f574_0b49_11ea_b511_e4f89c390f11row3_col2\" class=\"data row3 col2\" >7</td>\n",
       "                        <td id=\"T_00a5f574_0b49_11ea_b511_e4f89c390f11row3_col3\" class=\"data row3 col3\" >10</td>\n",
       "                        <td id=\"T_00a5f574_0b49_11ea_b511_e4f89c390f11row3_col4\" class=\"data row3 col4\" >1</td>\n",
       "            </tr>\n",
       "            <tr>\n",
       "                        <th id=\"T_00a5f574_0b49_11ea_b511_e4f89c390f11level0_row4\" class=\"row_heading level0 row4\" >4</th>\n",
       "                        <td id=\"T_00a5f574_0b49_11ea_b511_e4f89c390f11row4_col0\" class=\"data row4 col0\" >1305</td>\n",
       "                        <td id=\"T_00a5f574_0b49_11ea_b511_e4f89c390f11row4_col1\" class=\"data row4 col1\" >811</td>\n",
       "                        <td id=\"T_00a5f574_0b49_11ea_b511_e4f89c390f11row4_col2\" class=\"data row4 col2\" >1</td>\n",
       "                        <td id=\"T_00a5f574_0b49_11ea_b511_e4f89c390f11row4_col3\" class=\"data row4 col3\" >3</td>\n",
       "                        <td id=\"T_00a5f574_0b49_11ea_b511_e4f89c390f11row4_col4\" class=\"data row4 col4\" >4</td>\n",
       "            </tr>\n",
       "    </tbody></table>"
      ],
      "text/plain": [
       "<pandas.io.formats.style.Styler at 0x218aa3c93c8>"
      ]
     },
     "execution_count": 13,
     "metadata": {},
     "output_type": "execute_result"
    }
   ],
   "source": [
    "df.head().style.highlight_max(axis=0)"
   ]
  },
  {
   "cell_type": "code",
   "execution_count": 14,
   "metadata": {},
   "outputs": [],
   "source": [
    "from sklearn.preprocessing import StandardScaler\n",
    "sc = StandardScaler()\n",
    "df[['company_name_encoded', 'location', 'minimum_exp', 'maximum_exp']] = sc.fit_transform(df[['company_name_encoded', 'location', 'minimum_exp', 'maximum_exp']])"
   ]
  },
  {
   "cell_type": "code",
   "execution_count": 15,
   "metadata": {},
   "outputs": [
    {
     "data": {
      "text/html": [
       "<div>\n",
       "<style scoped>\n",
       "    .dataframe tbody tr th:only-of-type {\n",
       "        vertical-align: middle;\n",
       "    }\n",
       "\n",
       "    .dataframe tbody tr th {\n",
       "        vertical-align: top;\n",
       "    }\n",
       "\n",
       "    .dataframe thead th {\n",
       "        text-align: right;\n",
       "    }\n",
       "</style>\n",
       "<table border=\"1\" class=\"dataframe\">\n",
       "  <thead>\n",
       "    <tr style=\"text-align: right;\">\n",
       "      <th></th>\n",
       "      <th>company_name_encoded</th>\n",
       "      <th>location</th>\n",
       "      <th>minimum_exp</th>\n",
       "      <th>maximum_exp</th>\n",
       "      <th>salary</th>\n",
       "    </tr>\n",
       "  </thead>\n",
       "  <tbody>\n",
       "    <tr>\n",
       "      <td>0</td>\n",
       "      <td>0.886106</td>\n",
       "      <td>-0.211248</td>\n",
       "      <td>0.197617</td>\n",
       "      <td>-0.255930</td>\n",
       "      <td>5</td>\n",
       "    </tr>\n",
       "    <tr>\n",
       "      <td>1</td>\n",
       "      <td>-1.302594</td>\n",
       "      <td>1.687695</td>\n",
       "      <td>1.689500</td>\n",
       "      <td>2.100694</td>\n",
       "      <td>1</td>\n",
       "    </tr>\n",
       "    <tr>\n",
       "      <td>2</td>\n",
       "      <td>1.230441</td>\n",
       "      <td>-0.379007</td>\n",
       "      <td>0.197617</td>\n",
       "      <td>0.215395</td>\n",
       "      <td>2</td>\n",
       "    </tr>\n",
       "    <tr>\n",
       "      <td>3</td>\n",
       "      <td>-1.400879</td>\n",
       "      <td>-1.336633</td>\n",
       "      <td>0.794370</td>\n",
       "      <td>0.451058</td>\n",
       "      <td>1</td>\n",
       "    </tr>\n",
       "    <tr>\n",
       "      <td>4</td>\n",
       "      <td>-0.728476</td>\n",
       "      <td>0.287370</td>\n",
       "      <td>-0.995890</td>\n",
       "      <td>-1.198579</td>\n",
       "      <td>4</td>\n",
       "    </tr>\n",
       "  </tbody>\n",
       "</table>\n",
       "</div>"
      ],
      "text/plain": [
       "   company_name_encoded  location  minimum_exp  maximum_exp  salary\n",
       "0              0.886106 -0.211248     0.197617    -0.255930       5\n",
       "1             -1.302594  1.687695     1.689500     2.100694       1\n",
       "2              1.230441 -0.379007     0.197617     0.215395       2\n",
       "3             -1.400879 -1.336633     0.794370     0.451058       1\n",
       "4             -0.728476  0.287370    -0.995890    -1.198579       4"
      ]
     },
     "execution_count": 15,
     "metadata": {},
     "output_type": "execute_result"
    }
   ],
   "source": [
    "df.head()"
   ]
  },
  {
   "cell_type": "code",
   "execution_count": 16,
   "metadata": {},
   "outputs": [],
   "source": [
    "#Splitting the dataset into  training and validation sets\n",
    "from sklearn.model_selection import train_test_split\n",
    "training_set, validation_set = train_test_split(df, test_size = 0.2, random_state = 21)\n",
    "\n",
    "#classifying the predictors and target variables as X and Y\n",
    "X_train = training_set.iloc[:,0:-1].values\n",
    "Y_train = training_set.iloc[:,-1].values\n",
    "X_val = validation_set.iloc[:,0:-1].values\n",
    "y_val = validation_set.iloc[:,-1].values"
   ]
  },
  {
   "cell_type": "code",
   "execution_count": 17,
   "metadata": {},
   "outputs": [],
   "source": [
    "def accuracy(confusion_matrix):\n",
    "   diagonal_sum = confusion_matrix.trace()\n",
    "   sum_of_all_elements = confusion_matrix.sum()\n",
    "   return diagonal_sum / sum_of_all_elements"
   ]
  },
  {
   "cell_type": "code",
   "execution_count": 18,
   "metadata": {},
   "outputs": [],
   "source": [
    "#Importing MLPClassifier\n",
    "from sklearn.neural_network import MLPClassifier\n",
    "\n",
    "#Initializing the MLPClassifier\n",
    "classifier = MLPClassifier(hidden_layer_sizes=(150,100,50), max_iter=300,activation = 'relu',solver='adam',random_state=1)"
   ]
  },
  {
   "cell_type": "code",
   "execution_count": 19,
   "metadata": {},
   "outputs": [
    {
     "data": {
      "text/plain": [
       "MLPClassifier(activation='relu', alpha=0.0001, batch_size='auto', beta_1=0.9,\n",
       "              beta_2=0.999, early_stopping=False, epsilon=1e-08,\n",
       "              hidden_layer_sizes=(150, 100, 50), learning_rate='constant',\n",
       "              learning_rate_init=0.001, max_iter=300, momentum=0.9,\n",
       "              n_iter_no_change=10, nesterovs_momentum=True, power_t=0.5,\n",
       "              random_state=1, shuffle=True, solver='adam', tol=0.0001,\n",
       "              validation_fraction=0.1, verbose=False, warm_start=False)"
      ]
     },
     "execution_count": 19,
     "metadata": {},
     "output_type": "execute_result"
    }
   ],
   "source": [
    "#Fitting the training data to the network\n",
    "classifier.fit(X_train, Y_train)"
   ]
  },
  {
   "cell_type": "code",
   "execution_count": 20,
   "metadata": {},
   "outputs": [],
   "source": [
    "#Predicting y for X_val\n",
    "y_pred = classifier.predict(X_val)"
   ]
  },
  {
   "cell_type": "code",
   "execution_count": 21,
   "metadata": {},
   "outputs": [
    {
     "name": "stdout",
     "output_type": "stream",
     "text": [
      "Accuracy of MLPClassifier :  0.4036859378944711\n"
     ]
    }
   ],
   "source": [
    "#Importing Confusion Matrix\n",
    "from sklearn.metrics import confusion_matrix\n",
    "#Comparing the predictions against the actual observations in y_val\n",
    "cm = confusion_matrix(y_pred, y_val)\n",
    "\n",
    "#Printing the accuracy\n",
    "print(\"Accuracy of MLPClassifier : \", accuracy(cm))"
   ]
  },
  {
   "cell_type": "code",
   "execution_count": 1,
   "metadata": {},
   "outputs": [
    {
     "data": {
      "text/plain": [
       "2"
      ]
     },
     "execution_count": 1,
     "metadata": {},
     "output_type": "execute_result"
    }
   ],
   "source": [
    "a=2\n",
    "a"
   ]
  },
  {
   "cell_type": "code",
   "execution_count": null,
   "metadata": {},
   "outputs": [],
   "source": []
  }
 ],
 "metadata": {
  "kernelspec": {
   "display_name": "Python 3",
   "language": "python",
   "name": "python3"
  },
  "language_info": {
   "codemirror_mode": {
    "name": "ipython",
    "version": 3
   },
   "file_extension": ".py",
   "mimetype": "text/x-python",
   "name": "python",
   "nbconvert_exporter": "python",
   "pygments_lexer": "ipython3",
   "version": "3.7.4"
  }
 },
 "nbformat": 4,
 "nbformat_minor": 2
}
