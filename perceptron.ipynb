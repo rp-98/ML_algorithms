{
 "cells": [
  {
   "cell_type": "code",
   "execution_count": 1,
   "metadata": {},
   "outputs": [],
   "source": [
    "import pandas as pd\n",
    "import numpy as np\n",
    "import matplotlib.pyplot as plt\n",
    "%matplotlib inline"
   ]
  },
  {
   "cell_type": "code",
   "execution_count": 2,
   "metadata": {},
   "outputs": [
    {
     "data": {
      "text/plain": [
       "Perceptron(alpha=0.0001, class_weight=None, early_stopping=False, eta0=1.0,\n",
       "           fit_intercept=True, max_iter=1000, n_iter_no_change=5, n_jobs=None,\n",
       "           penalty=None, random_state=0, shuffle=True, tol=0.001,\n",
       "           validation_fraction=0.1, verbose=0, warm_start=False)"
      ]
     },
     "execution_count": 2,
     "metadata": {},
     "output_type": "execute_result"
    }
   ],
   "source": [
    "from sklearn.datasets import load_digits\n",
    "from sklearn.linear_model import Perceptron\n",
    "X, y = load_digits(return_X_y=True)\n",
    "clf = Perceptron(tol=1e-3, random_state=0)\n",
    "clf.fit(X, y)"
   ]
  },
  {
   "cell_type": "code",
   "execution_count": 3,
   "metadata": {},
   "outputs": [
    {
     "data": {
      "text/plain": [
       "0.9393433500278241"
      ]
     },
     "execution_count": 3,
     "metadata": {},
     "output_type": "execute_result"
    }
   ],
   "source": [
    "clf.score(X, y) "
   ]
  },
  {
   "cell_type": "code",
   "execution_count": 4,
   "metadata": {},
   "outputs": [
    {
     "data": {
      "text/plain": [
       "array([0, 1, 2, ..., 8, 9, 8])"
      ]
     },
     "execution_count": 4,
     "metadata": {},
     "output_type": "execute_result"
    }
   ],
   "source": [
    "clf.predict(X)"
   ]
  },
  {
   "cell_type": "code",
   "execution_count": 6,
   "metadata": {},
   "outputs": [
    {
     "data": {
      "text/plain": [
       "(1797, 64)"
      ]
     },
     "execution_count": 6,
     "metadata": {},
     "output_type": "execute_result"
    }
   ],
   "source": [
    "X.shape\n"
   ]
  },
  {
   "cell_type": "markdown",
   "metadata": {},
   "source": [
    "###Perceptron with iris data"
   ]
  },
  {
   "cell_type": "code",
   "execution_count": 7,
   "metadata": {},
   "outputs": [
    {
     "name": "stdout",
     "output_type": "stream",
     "text": [
      "[[5.1 3.5 1.4 0.2]\n",
      " [4.9 3.  1.4 0.2]\n",
      " [4.7 3.2 1.3 0.2]]\n",
      "[[5.7 4.4 1.5 0.4]\n",
      " [5.4 3.9 1.3 0.4]\n",
      " [5.1 3.5 1.4 0.3]]\n",
      "[[4.9 3.6 1.4 0.1]\n",
      " [4.4 3.  1.3 0.2]\n",
      " [5.1 3.4 1.5 0.2]]\n"
     ]
    }
   ],
   "source": [
    "import numpy as np\n",
    "from sklearn.datasets import load_iris\n",
    "from sklearn.linear_model import Perceptron\n",
    "iris = load_iris()\n",
    "print(iris.data[:3])\n",
    "print(iris.data[15:18])\n",
    "print(iris.data[37:40])\n",
    "# we extract only the lengths and widthes of the petals:\n",
    "X = iris.data[:, (2, 3)]  "
   ]
  },
  {
   "cell_type": "code",
   "execution_count": 8,
   "metadata": {},
   "outputs": [
    {
     "name": "stdout",
     "output_type": "stream",
     "text": [
      "[0 0 0 0 0 0 0 0 0 0 0 0 0 0 0 0 0 0 0 0 0 0 0 0 0 0 0 0 0 0 0 0 0 0 0 0 0\n",
      " 0 0 0 0 0 0 0 0 0 0 0 0 0 1 1 1 1 1 1 1 1 1 1 1 1 1 1 1 1 1 1 1 1 1 1 1 1\n",
      " 1 1 1 1 1 1 1 1 1 1 1 1 1 1 1 1 1 1 1 1 1 1 1 1 1 1 2 2 2 2 2 2 2 2 2 2 2\n",
      " 2 2 2 2 2 2 2 2 2 2 2 2 2 2 2 2 2 2 2 2 2 2 2 2 2 2 2 2 2 2 2 2 2 2 2 2 2\n",
      " 2 2]\n"
     ]
    }
   ],
   "source": [
    "print(iris.target)"
   ]
  },
  {
   "cell_type": "code",
   "execution_count": 9,
   "metadata": {},
   "outputs": [
    {
     "name": "stdout",
     "output_type": "stream",
     "text": [
      "[1 1 1 1 1 1 1 1 1 1 1 1 1 1 1 1 1 1 1 1 1 1 1 1 1 1 1 1 1 1 1 1 1 1 1 1 1\n",
      " 1 1 1 1 1 1 1 1 1 1 1 1 1 0 0 0 0 0 0 0 0 0 0 0 0 0 0 0 0 0 0 0 0 0 0 0 0\n",
      " 0 0 0 0 0 0 0 0 0 0 0 0 0 0 0 0 0 0 0 0 0 0 0 0 0 0 0 0 0 0 0 0 0 0 0 0 0\n",
      " 0 0 0 0 0 0 0 0 0 0 0 0 0 0 0 0 0 0 0 0 0 0 0 0 0 0 0 0 0 0 0 0 0 0 0 0 0\n",
      " 0 0]\n"
     ]
    }
   ],
   "source": [
    "y = (iris.target==0).astype(np.int8)\n",
    "print(y)"
   ]
  },
  {
   "cell_type": "code",
   "execution_count": 11,
   "metadata": {},
   "outputs": [
    {
     "data": {
      "text/plain": [
       "Perceptron(alpha=0.0001, class_weight=None, early_stopping=False, eta0=1.0,\n",
       "           fit_intercept=True, max_iter=10, n_iter_no_change=5, n_jobs=None,\n",
       "           penalty=None, random_state=42, shuffle=True, tol=0.001,\n",
       "           validation_fraction=0.1, verbose=0, warm_start=False)"
      ]
     },
     "execution_count": 11,
     "metadata": {},
     "output_type": "execute_result"
    }
   ],
   "source": [
    "p = Perceptron(random_state=42,\n",
    "              max_iter=10,\n",
    "              tol=0.001)\n",
    "p.fit(X, y)"
   ]
  },
  {
   "cell_type": "code",
   "execution_count": 12,
   "metadata": {},
   "outputs": [
    {
     "name": "stdout",
     "output_type": "stream",
     "text": [
      "[array([1], dtype=int8)]\n",
      "[array([1], dtype=int8)]\n",
      "[array([1], dtype=int8)]\n",
      "[array([1], dtype=int8)]\n",
      "[array([1], dtype=int8)]\n",
      "[array([1], dtype=int8)]\n",
      "[array([1], dtype=int8)]\n",
      "[array([1], dtype=int8)]\n",
      "[array([1], dtype=int8)]\n",
      "[array([1], dtype=int8)]\n",
      "[array([1], dtype=int8)]\n",
      "[array([1], dtype=int8)]\n",
      "[array([1], dtype=int8)]\n",
      "[array([1], dtype=int8)]\n",
      "[array([1], dtype=int8)]\n",
      "[array([1], dtype=int8)]\n",
      "[array([1], dtype=int8)]\n",
      "[array([1], dtype=int8)]\n",
      "[array([1], dtype=int8)]\n",
      "[array([1], dtype=int8)]\n",
      "[array([1], dtype=int8)]\n",
      "[array([1], dtype=int8)]\n",
      "[array([1], dtype=int8)]\n",
      "[array([1], dtype=int8)]\n",
      "[array([1], dtype=int8)]\n",
      "[array([1], dtype=int8)]\n",
      "[array([1], dtype=int8)]\n",
      "[array([1], dtype=int8)]\n",
      "[array([1], dtype=int8)]\n",
      "[array([1], dtype=int8)]\n",
      "[array([1], dtype=int8)]\n",
      "[array([1], dtype=int8)]\n",
      "[array([1], dtype=int8)]\n",
      "[array([1], dtype=int8)]\n",
      "[array([1], dtype=int8)]\n",
      "[array([1], dtype=int8)]\n",
      "[array([1], dtype=int8)]\n",
      "[array([1], dtype=int8)]\n",
      "[array([1], dtype=int8)]\n",
      "[array([1], dtype=int8)]\n",
      "[array([1], dtype=int8)]\n",
      "[array([1], dtype=int8)]\n",
      "[array([1], dtype=int8)]\n",
      "[array([1], dtype=int8)]\n",
      "[array([1], dtype=int8)]\n",
      "[array([1], dtype=int8)]\n",
      "[array([1], dtype=int8)]\n",
      "[array([1], dtype=int8)]\n",
      "[array([1], dtype=int8)]\n",
      "[array([1], dtype=int8)]\n",
      "[array([0], dtype=int8)]\n",
      "[array([0], dtype=int8)]\n",
      "[array([0], dtype=int8)]\n",
      "[array([0], dtype=int8)]\n",
      "[array([0], dtype=int8)]\n",
      "[array([0], dtype=int8)]\n",
      "[array([0], dtype=int8)]\n",
      "[array([0], dtype=int8)]\n",
      "[array([0], dtype=int8)]\n",
      "[array([0], dtype=int8)]\n",
      "[array([0], dtype=int8)]\n",
      "[array([0], dtype=int8)]\n",
      "[array([0], dtype=int8)]\n",
      "[array([0], dtype=int8)]\n",
      "[array([0], dtype=int8)]\n",
      "[array([0], dtype=int8)]\n",
      "[array([0], dtype=int8)]\n",
      "[array([0], dtype=int8)]\n",
      "[array([0], dtype=int8)]\n",
      "[array([0], dtype=int8)]\n",
      "[array([0], dtype=int8)]\n",
      "[array([0], dtype=int8)]\n",
      "[array([0], dtype=int8)]\n",
      "[array([0], dtype=int8)]\n",
      "[array([0], dtype=int8)]\n",
      "[array([0], dtype=int8)]\n",
      "[array([0], dtype=int8)]\n",
      "[array([0], dtype=int8)]\n",
      "[array([0], dtype=int8)]\n",
      "[array([0], dtype=int8)]\n",
      "[array([0], dtype=int8)]\n",
      "[array([0], dtype=int8)]\n",
      "[array([0], dtype=int8)]\n",
      "[array([0], dtype=int8)]\n",
      "[array([0], dtype=int8)]\n",
      "[array([0], dtype=int8)]\n",
      "[array([0], dtype=int8)]\n",
      "[array([0], dtype=int8)]\n",
      "[array([0], dtype=int8)]\n",
      "[array([0], dtype=int8)]\n",
      "[array([0], dtype=int8)]\n",
      "[array([0], dtype=int8)]\n",
      "[array([0], dtype=int8)]\n",
      "[array([0], dtype=int8)]\n",
      "[array([0], dtype=int8)]\n",
      "[array([0], dtype=int8)]\n",
      "[array([0], dtype=int8)]\n",
      "[array([0], dtype=int8)]\n",
      "[array([0], dtype=int8)]\n",
      "[array([0], dtype=int8)]\n",
      "[array([0], dtype=int8)]\n",
      "[array([0], dtype=int8)]\n",
      "[array([0], dtype=int8)]\n",
      "[array([0], dtype=int8)]\n",
      "[array([0], dtype=int8)]\n",
      "[array([0], dtype=int8)]\n",
      "[array([0], dtype=int8)]\n",
      "[array([0], dtype=int8)]\n",
      "[array([0], dtype=int8)]\n",
      "[array([0], dtype=int8)]\n",
      "[array([0], dtype=int8)]\n",
      "[array([0], dtype=int8)]\n",
      "[array([0], dtype=int8)]\n",
      "[array([0], dtype=int8)]\n",
      "[array([0], dtype=int8)]\n",
      "[array([0], dtype=int8)]\n",
      "[array([0], dtype=int8)]\n",
      "[array([0], dtype=int8)]\n",
      "[array([0], dtype=int8)]\n",
      "[array([0], dtype=int8)]\n",
      "[array([0], dtype=int8)]\n",
      "[array([0], dtype=int8)]\n",
      "[array([0], dtype=int8)]\n",
      "[array([0], dtype=int8)]\n",
      "[array([0], dtype=int8)]\n",
      "[array([0], dtype=int8)]\n",
      "[array([0], dtype=int8)]\n",
      "[array([0], dtype=int8)]\n",
      "[array([0], dtype=int8)]\n",
      "[array([0], dtype=int8)]\n",
      "[array([0], dtype=int8)]\n",
      "[array([0], dtype=int8)]\n",
      "[array([0], dtype=int8)]\n",
      "[array([0], dtype=int8)]\n",
      "[array([0], dtype=int8)]\n",
      "[array([0], dtype=int8)]\n",
      "[array([0], dtype=int8)]\n",
      "[array([0], dtype=int8)]\n",
      "[array([0], dtype=int8)]\n",
      "[array([0], dtype=int8)]\n",
      "[array([0], dtype=int8)]\n",
      "[array([0], dtype=int8)]\n",
      "[array([0], dtype=int8)]\n",
      "[array([0], dtype=int8)]\n",
      "[array([0], dtype=int8)]\n",
      "[array([0], dtype=int8)]\n",
      "[array([0], dtype=int8)]\n",
      "[array([0], dtype=int8)]\n",
      "[array([0], dtype=int8)]\n",
      "[array([0], dtype=int8)]\n"
     ]
    }
   ],
   "source": [
    "values = [[1.5, 0.1], [1.8, 0.4], [1.3,0.2]]\n",
    "for value in X:\n",
    "    pred = p.predict([value])\n",
    "    print([pred])"
   ]
  },
  {
   "cell_type": "code",
   "execution_count": 13,
   "metadata": {},
   "outputs": [
    {
     "name": "stdout",
     "output_type": "stream",
     "text": [
      "MLPClassifier(activation='relu', alpha=1e-05, batch_size='auto', beta_1=0.9,\n",
      "              beta_2=0.999, early_stopping=False, epsilon=1e-08,\n",
      "              hidden_layer_sizes=(5, 2), learning_rate='constant',\n",
      "              learning_rate_init=0.001, max_iter=200, momentum=0.9,\n",
      "              n_iter_no_change=10, nesterovs_momentum=True, power_t=0.5,\n",
      "              random_state=1, shuffle=True, solver='lbfgs', tol=0.0001,\n",
      "              validation_fraction=0.1, verbose=False, warm_start=False)\n"
     ]
    }
   ],
   "source": [
    "from sklearn.neural_network import MLPClassifier\n",
    "X = [[0., 0.], [0., 1.], [1., 0.], [1., 1.]]\n",
    "y = [0, 0, 0, 1]\n",
    "clf = MLPClassifier(solver='lbfgs', alpha=1e-5,\n",
    "                    hidden_layer_sizes=(5, 2), random_state=1)\n",
    "print(clf.fit(X, y))    "
   ]
  },
  {
   "cell_type": "code",
   "execution_count": 14,
   "metadata": {},
   "outputs": [
    {
     "name": "stdout",
     "output_type": "stream",
     "text": [
      "weights between input and first hidden layer:\n",
      "[[-0.14203691 -1.18304359 -0.85567518 -4.53250719 -0.60466275]\n",
      " [-0.69781111 -3.5850093  -0.26436018 -4.39161248  0.06644423]]\n",
      "\n",
      "weights between first hidden and second hidden layer:\n",
      "[[ 0.29179638 -0.14155284]\n",
      " [ 4.02666592 -0.61556475]\n",
      " [-0.51677234  0.51479708]\n",
      " [ 7.37215202 -0.31936965]\n",
      " [ 0.32920668  0.64428109]]\n"
     ]
    }
   ],
   "source": [
    "print(\"weights between input and first hidden layer:\")\n",
    "print(clf.coefs_[0])\n",
    "print(\"\\nweights between first hidden and second hidden layer:\")\n",
    "print(clf.coefs_[1])"
   ]
  },
  {
   "cell_type": "code",
   "execution_count": 15,
   "metadata": {},
   "outputs": [
    {
     "name": "stdout",
     "output_type": "stream",
     "text": [
      "w0 =  -0.1420369126782716\n",
      "w1 =  -0.6978111149778672\n"
     ]
    }
   ],
   "source": [
    "print(\"w0 = \", clf.coefs_[0][0][0])\n",
    "print(\"w1 = \", clf.coefs_[0][1][0])"
   ]
  },
  {
   "cell_type": "code",
   "execution_count": 16,
   "metadata": {},
   "outputs": [
    {
     "data": {
      "text/plain": [
       "array([-0.14203691, -0.69781111])"
      ]
     },
     "execution_count": 16,
     "metadata": {},
     "output_type": "execute_result"
    }
   ],
   "source": [
    "clf.coefs_[0][:,0]"
   ]
  },
  {
   "cell_type": "code",
   "execution_count": 17,
   "metadata": {},
   "outputs": [
    {
     "name": "stdout",
     "output_type": "stream",
     "text": [
      "0 0 [-0.14203691 -0.69781111], \n",
      "0 1 [-1.18304359 -3.5850093 ], \n",
      "0 2 [-0.85567518 -0.26436018], \n",
      "0 3 [-4.53250719 -4.39161248], \n",
      "0 4 [-0.60466275  0.06644423], \n",
      "\n",
      "1 0 [ 0.29179638  4.02666592 -0.51677234  7.37215202  0.32920668], \n",
      "1 1 [-0.14155284 -0.61556475  0.51479708 -0.31936965  0.64428109], \n",
      "\n",
      "2 0 [-4.96774269 -0.86330397], \n",
      "\n"
     ]
    }
   ],
   "source": [
    "for i in range(len(clf.coefs_)):\n",
    "    number_neurons_in_layer = clf.coefs_[i].shape[1]\n",
    "    for j in range(number_neurons_in_layer):\n",
    "        weights = clf.coefs_[i][:,j]\n",
    "        print(i, j, weights, end=\", \")\n",
    "        print()\n",
    "    print()"
   ]
  },
  {
   "cell_type": "code",
   "execution_count": 18,
   "metadata": {},
   "outputs": [
    {
     "name": "stdout",
     "output_type": "stream",
     "text": [
      "Bias values for first hidden layer:\n",
      "[-0.14962269 -0.59232707 -0.5472481   7.02667699 -0.87510813]\n",
      "\n",
      "Bias values for second hidden layer:\n",
      "[-3.61417672 -0.76834882]\n"
     ]
    }
   ],
   "source": [
    "print(\"Bias values for first hidden layer:\")\n",
    "print(clf.intercepts_[0])\n",
    "print(\"\\nBias values for second hidden layer:\")\n",
    "print(clf.intercepts_[1])"
   ]
  },
  {
   "cell_type": "code",
   "execution_count": 19,
   "metadata": {},
   "outputs": [
    {
     "name": "stdout",
     "output_type": "stream",
     "text": [
      "[[1.00000000e+000 5.25723951e-101]\n",
      " [1.00000000e+000 3.71534882e-031]\n",
      " [1.00000000e+000 6.47069178e-029]\n",
      " [1.00000000e+000 3.71534882e-031]\n",
      " [2.07145538e-004 9.99792854e-001]\n",
      " [2.07145538e-004 9.99792854e-001]\n",
      " [2.07145538e-004 9.99792854e-001]\n",
      " [2.07145538e-004 9.99792854e-001]]\n"
     ]
    }
   ],
   "source": [
    "prob_results = clf.predict_proba([[0, 0], [0, 1], \n",
    "                                  [1, 0], [0, 1], \n",
    "                                  [1, 1], [2., 2.], \n",
    "                                  [1.3, 1.3], [2, 4.8]])\n",
    "print(prob_results)"
   ]
  },
  {
   "cell_type": "code",
   "execution_count": 20,
   "metadata": {},
   "outputs": [
    {
     "data": {
      "image/png": "[encoded data removed]",
      "text/plain": [
       "<Figure size 432x288 with 1 Axes>"
      ]
     },
     "metadata": {
      "needs_background": "light"
     },
     "output_type": "display_data"
    }
   ],
   "source": [
    "import numpy as np\n",
    "from matplotlib import pyplot as plt\n",
    "npoints = 50\n",
    "X, Y = [], []\n",
    "# class 0\n",
    "X.append(np.random.uniform(low=-2.5, high=2.3, size=(npoints,)) )\n",
    "Y.append(np.random.uniform(low=-1.7, high=2.8, size=(npoints,)))\n",
    "# class 1\n",
    "X.append(np.random.uniform(low=-7.2, high=-4.4, size=(npoints,)) )\n",
    "Y.append(np.random.uniform(low=3, high=6.5, size=(npoints,)))\n",
    "learnset = []\n",
    "learnlabels = []\n",
    "for i in range(2):\n",
    "    # adding points of class i to learnset\n",
    "    points = zip(X[i], Y[i])\n",
    "    for p in points:\n",
    "        learnset.append(p)\n",
    "        learnlabels.append(i)\n",
    "npoints_test = 3 * npoints\n",
    "TestX = np.random.uniform(low=-7.2, high=5, size=(npoints_test,)) \n",
    "TestY = np.random.uniform(low=-4, high=9, size=(npoints_test,))\n",
    "testset = []\n",
    "points = zip(TestX, TestY)\n",
    "for p in points:\n",
    "    testset.append(p)\n",
    "colours = [\"b\", \"r\"]\n",
    "for i in range(2):\n",
    "    plt.scatter(X[i], Y[i], c=colours[i])\n",
    "plt.scatter(TestX, TestY, c=\"g\")\n",
    "plt.show()"
   ]
  },
  {
   "cell_type": "code",
   "execution_count": 21,
   "metadata": {},
   "outputs": [
    {
     "name": "stdout",
     "output_type": "stream",
     "text": [
      "Iteration 1, loss = 0.49565557\n",
      "Iteration 2, loss = 0.45906297\n",
      "Iteration 3, loss = 0.42022110\n",
      "Iteration 4, loss = 0.38515062\n",
      "Iteration 5, loss = 0.35682140\n",
      "Iteration 6, loss = 0.32563698\n",
      "Iteration 7, loss = 0.29436037\n",
      "Iteration 8, loss = 0.26597582\n",
      "Iteration 9, loss = 0.23959706\n",
      "Iteration 10, loss = 0.21492541\n",
      "Iteration 11, loss = 0.19220368\n",
      "Iteration 12, loss = 0.17149801\n",
      "Iteration 13, loss = 0.15277879\n",
      "Iteration 14, loss = 0.13606676\n",
      "Iteration 15, loss = 0.12141855\n",
      "Iteration 16, loss = 0.10851737\n",
      "Iteration 17, loss = 0.09720291\n",
      "Iteration 18, loss = 0.08734609\n",
      "Iteration 19, loss = 0.07875205\n",
      "Iteration 20, loss = 0.07126444\n",
      "Iteration 21, loss = 0.06473982\n",
      "Iteration 22, loss = 0.05904765\n",
      "Iteration 23, loss = 0.05411201\n",
      "Iteration 24, loss = 0.04979447\n",
      "Iteration 25, loss = 0.04602209\n",
      "Iteration 26, loss = 0.04270381\n",
      "Iteration 27, loss = 0.03978420\n",
      "Iteration 28, loss = 0.03720698\n",
      "Iteration 29, loss = 0.03492263\n",
      "Iteration 30, loss = 0.03288903\n",
      "Iteration 31, loss = 0.03107108\n",
      "Iteration 32, loss = 0.02943973\n",
      "Iteration 33, loss = 0.02797094\n",
      "Iteration 34, loss = 0.02665044\n",
      "Iteration 35, loss = 0.02546279\n",
      "Iteration 36, loss = 0.02438463\n",
      "Iteration 37, loss = 0.02340306\n",
      "Iteration 38, loss = 0.02250691\n",
      "Iteration 39, loss = 0.02168748\n",
      "Iteration 40, loss = 0.02093517\n",
      "Iteration 41, loss = 0.02024240\n",
      "Iteration 42, loss = 0.01960313\n",
      "Iteration 43, loss = 0.01901321\n",
      "Iteration 44, loss = 0.01846551\n",
      "Iteration 45, loss = 0.01795624\n",
      "Iteration 46, loss = 0.01748206\n",
      "Iteration 47, loss = 0.01703961\n",
      "Iteration 48, loss = 0.01662524\n",
      "Iteration 49, loss = 0.01623657\n",
      "Iteration 50, loss = 0.01587123\n",
      "Iteration 51, loss = 0.01552712\n",
      "Iteration 52, loss = 0.01520273\n",
      "Iteration 53, loss = 0.01489607\n",
      "Iteration 54, loss = 0.01460563\n",
      "Iteration 55, loss = 0.01433007\n",
      "Iteration 56, loss = 0.01406818\n",
      "Iteration 57, loss = 0.01381887\n",
      "Iteration 58, loss = 0.01358115\n",
      "Iteration 59, loss = 0.01335415\n",
      "Iteration 60, loss = 0.01313707\n",
      "Iteration 61, loss = 0.01292918\n",
      "Iteration 62, loss = 0.01272984\n",
      "Iteration 63, loss = 0.01253844\n",
      "Iteration 64, loss = 0.01235445\n",
      "Iteration 65, loss = 0.01217738\n",
      "Iteration 66, loss = 0.01200677\n",
      "Iteration 67, loss = 0.01184222\n",
      "Iteration 68, loss = 0.01168334\n",
      "Iteration 69, loss = 0.01152980\n",
      "Iteration 70, loss = 0.01138127\n",
      "Iteration 71, loss = 0.01123747\n",
      "Iteration 72, loss = 0.01109812\n",
      "Iteration 73, loss = 0.01096298\n",
      "Iteration 74, loss = 0.01083182\n",
      "Iteration 75, loss = 0.01070442\n",
      "Iteration 76, loss = 0.01058060\n",
      "Iteration 77, loss = 0.01046016\n",
      "Iteration 78, loss = 0.01034296\n",
      "Iteration 79, loss = 0.01022882\n",
      "Iteration 80, loss = 0.01011760\n",
      "Iteration 81, loss = 0.01000917\n",
      "Iteration 82, loss = 0.00990341\n",
      "Iteration 83, loss = 0.00980020\n",
      "Iteration 84, loss = 0.00969942\n",
      "Iteration 85, loss = 0.00960093\n",
      "Iteration 86, loss = 0.00950464\n",
      "Iteration 87, loss = 0.00941048\n",
      "Iteration 88, loss = 0.00931839\n",
      "Iteration 89, loss = 0.00922828\n",
      "Iteration 90, loss = 0.00914008\n",
      "Iteration 91, loss = 0.00905372\n",
      "Iteration 92, loss = 0.00896913\n",
      "Iteration 93, loss = 0.00888625\n",
      "Iteration 94, loss = 0.00880503\n",
      "Iteration 95, loss = 0.00872539\n",
      "Training loss did not improve more than tol=0.000100 for 10 consecutive epochs. Stopping.\n",
      "Training set score: 1.000000\n",
      "Test set score: 1.000000\n"
     ]
    },
    {
     "data": {
      "text/plain": [
       "array([0, 1])"
      ]
     },
     "execution_count": 21,
     "metadata": {},
     "output_type": "execute_result"
    }
   ],
   "source": [
    "import matplotlib.pyplot as plt\n",
    "from sklearn.datasets import fetch_mldata\n",
    "from sklearn.neural_network import MLPClassifier\n",
    "mlp = MLPClassifier(hidden_layer_sizes=(20, 3), max_iter=150, alpha=1e-4,\n",
    "                    solver='sgd', verbose=10, tol=1e-4, random_state=1,\n",
    "                    learning_rate_init=.1)\n",
    "mlp.fit(learnset, learnlabels)\n",
    "print(\"Training set score: %f\" % mlp.score(learnset, learnlabels))\n",
    "print(\"Test set score: %f\" % mlp.score(learnset, learnlabels))\n",
    "mlp.classes_"
   ]
  },
  {
   "cell_type": "code",
   "execution_count": 22,
   "metadata": {},
   "outputs": [
    {
     "data": {
      "text/plain": [
       "array([1, 1, 1, 0, 1, 0, 0, 1, 1, 1, 0, 1, 0, 0, 0, 1, 0, 0, 1, 0, 1, 1,\n",
       "       1, 0, 1, 1, 1, 0, 0, 0, 1, 0, 0, 0, 1, 0, 0, 0, 1, 0, 0, 0, 1, 1,\n",
       "       0, 0, 0, 1, 1, 1, 1, 0, 1, 1, 0, 0, 1, 0, 0, 1, 1, 1, 0, 0, 1, 0,\n",
       "       1, 0, 1, 0, 0, 0, 0, 1, 0, 1, 0, 0, 1, 1, 0, 1, 1, 0, 0, 0, 0, 1,\n",
       "       1, 0, 0, 1, 1, 1, 1, 1, 0, 1, 1, 0, 1, 0, 1, 1, 0, 1, 0, 1, 1, 0,\n",
       "       0, 0, 1, 1, 1, 0, 1, 0, 1, 1, 1, 1, 1, 1, 0, 1, 0, 1, 0, 1, 1, 0,\n",
       "       0, 1, 1, 0, 0, 0, 0, 0, 1, 1, 0, 0, 0, 0, 0, 0, 0, 0])"
      ]
     },
     "execution_count": 22,
     "metadata": {},
     "output_type": "execute_result"
    }
   ],
   "source": [
    "predictions = clf.predict(testset)\n",
    "predictions"
   ]
  },
  {
   "cell_type": "code",
   "execution_count": 23,
   "metadata": {},
   "outputs": [
    {
     "data": {
      "image/png": "[encoded data removed]",
      "text/plain": [
       "<Figure size 432x288 with 1 Axes>"
      ]
     },
     "metadata": {
      "needs_background": "light"
     },
     "output_type": "display_data"
    }
   ],
   "source": [
    "testset = np.array(testset)\n",
    "testset[predictions==1]\n",
    "colours = ['#C0FFFF', \"#FFC8C8\"]\n",
    "for i in range(2):\n",
    "    plt.scatter(X[i], Y[i], c=colours[i])\n",
    "colours = [\"b\", \"r\"]\n",
    "for i in range(2):\n",
    "    cls = testset[predictions==i]\n",
    "    Xt, Yt = zip(*cls)\n",
    "    plt.scatter(Xt, Yt, marker=\"D\", c=colours[i])"
   ]
  },
  {
   "cell_type": "markdown",
   "metadata": {},
   "source": [
    "**MNIST Dataset**"
   ]
  },
  {
   "cell_type": "code",
   "execution_count": null,
   "metadata": {},
   "outputs": [],
   "source": []
  }
 ],
 "metadata": {
  "kernelspec": {
   "display_name": "Python 3",
   "language": "python",
   "name": "python3"
  },
  "language_info": {
   "codemirror_mode": {
    "name": "ipython",
    "version": 3
   },
   "file_extension": ".py",
   "mimetype": "text/x-python",
   "name": "python",
   "nbconvert_exporter": "python",
   "pygments_lexer": "ipython3",
   "version": "3.7.4"
  }
 },
 "nbformat": 4,
 "nbformat_minor": 2
}
